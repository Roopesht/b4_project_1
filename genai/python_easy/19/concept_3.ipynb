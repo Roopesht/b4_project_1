{
  "cells": [
    {
      "cell_type": "markdown",
      "metadata": {
        "id": "AlWF2_ZeTZbM"
      },
      "source": [
        "# Real-World Stock Price Prediction"
      ],
      "id": "AlWF2_ZeTZbM"
    },
    {
      "cell_type": "markdown",
      "metadata": {
        "id": "v_ij3_CjTZbO"
      },
      "source": [
        "### 💹 Stock Market Regression Challenge\n",
        "Let's learn how to predict tomorrow's stock price using historical data!"
      ],
      "id": "v_ij3_CjTZbO"
    },
    {
      "cell_type": "markdown",
      "metadata": {
        "id": "Hcp6auolTZbO"
      },
      "source": [
        "![Stock market charts with ML models predicting future prices, arrows showing prediction flow, size 800x500](https://github.com/Roopesht/codeexamples/blob/main/genai/python_easy/19/images/stock_market_prediction.png?raw=1)"
      ],
      "id": "Hcp6auolTZbO"
    },
    {
      "cell_type": "markdown",
      "metadata": {
        "id": "Be1NsVuqTZbO"
      },
      "source": [
        "### 🎯 The Prediction Battle\n",
        "- **Data:** Historical stock prices (Open, High, Low, Volume)\n",
        "- **Target:** Next day's closing price\n",
        "- **Models:** Linear Regression vs Random Forest\n",
        "- **Winner:** The model with the lowest RMSE and the best R² score"
      ],
      "id": "Be1NsVuqTZbO"
    },
    {
      "cell_type": "markdown",
      "metadata": {
        "id": "otz5ChQ0TZbO"
      },
      "source": [
        "### 🔄 The ML Pipeline\n",
        "1. **📥 Data Collection:** Get historical stock data\n",
        "2. **🧹 Data Preparation:** Clean and feature engineer\n",
        "3. **✂️ Train/Test Split:** 80% train, 20% test\n",
        "4. **🏋️ Model Training:** Train both models\n",
        "5. **📊 Performance Comparison:** Compare RMSE and R²\n",
        "6. **🏆 Model Selection:** Pick the winner!"
      ],
      "id": "otz5ChQ0TZbO"
    },
    {
      "cell_type": "markdown",
      "metadata": {
        "id": "7VQXbjAHTZbP"
      },
      "source": [
        "### 📂 Stock Prediction Implementation"
      ],
      "id": "7VQXbjAHTZbP"
    },
    {
      "cell_type": "code",
      "metadata": {
        "id": "5IhDlamxTZbP",
        "outputId": "10b5c093-882c-4a87-9fa3-810567269134",
        "colab": {
          "base_uri": "https://localhost:8080/"
        }
      },
      "source": [
        "import yfinance as yf\n",
        "from sklearn.ensemble import RandomForestRegressor\n",
        "from sklearn.linear_model import LinearRegression\n",
        "from sklearn.metrics import root_mean_squared_error, r2_score\n",
        "import pandas as pd\n",
        "\n",
        "# Get stock data for Apple (AAPL) from Jan 1, 2023 to Jan 1, 2024\n",
        "stock = yf.download('AAPL', start='2023-01-01', end='2024-01-01')\n",
        "\n",
        "# Prepare features: use previous day's data as features\n",
        "X = stock[['Open', 'High', 'Low', 'Volume']].shift(1).dropna()\n",
        "y = stock['Close'][1:]  # Next day's closing price\n",
        "\n",
        "# Split data into training and testing sets\n",
        "split_index = int(len(X) * 0.8)\n",
        "X_train = X[:split_index]\n",
        "X_test = X[split_index:]\n",
        "y_train = y[:split_index]\n",
        "y_test = y[split_index:]\n",
        "\n",
        "# Train a Linear Regression model\n",
        "lr_model = LinearRegression().fit(X_train, y_train)\n",
        "\n",
        "# Train a Random Forest Regressor\n",
        "rf_model = RandomForestRegressor(n_estimators=100, random_state=42).fit(X_train, y_train)\n",
        "\n",
        "# Make predictions\n",
        "lr_predictions = lr_model.predict(X_test)\n",
        "rf_predictions = rf_model.predict(X_test)\n",
        "\n",
        "# Calculate RMSE (Root Mean Squared Error) for both models\n",
        "lr_rmse = root_mean_squared_error(y_test, lr_predictions)\n",
        "rf_rmse = root_mean_squared_error(y_test, rf_predictions)\n",
        "\n",
        "# Calculate R² score for both models\n",
        "lr_r2 = r2_score(y_test, lr_predictions)\n",
        "rf_r2 = r2_score(y_test, rf_predictions)\n",
        "\n",
        "# Display performance\n",
        "print(f\"Linear Regression RMSE: {lr_rmse:.2f}\")\n",
        "print(f\"Random Forest RMSE: {rf_rmse:.2f}\")\n",
        "print(f\"Linear Regression R²: {lr_r2:.2f}\")\n",
        "print(f\"Random Forest R²: {rf_r2:.2f}\")"
      ],
      "id": "5IhDlamxTZbP",
      "execution_count": 2,
      "outputs": [
        {
          "output_type": "stream",
          "name": "stderr",
          "text": [
            "/tmp/ipython-input-560840339.py:8: FutureWarning: YF.download() has changed argument auto_adjust default to True\n",
            "  stock = yf.download('AAPL', start='2023-01-01', end='2024-01-01')\n",
            "\r[*********************100%***********************]  1 of 1 completed\n",
            "/usr/local/lib/python3.12/dist-packages/sklearn/base.py:1389: DataConversionWarning: A column-vector y was passed when a 1d array was expected. Please change the shape of y to (n_samples,), for example using ravel().\n",
            "  return fit_method(estimator, *args, **kwargs)\n"
          ]
        },
        {
          "output_type": "stream",
          "name": "stdout",
          "text": [
            "Linear Regression RMSE: 2.27\n",
            "Random Forest RMSE: 2.44\n",
            "Linear Regression R²: 0.94\n",
            "Random Forest R²: 0.93\n"
          ]
        }
      ]
    },
    {
      "cell_type": "code",
      "source": [
        "# Live validation example\n",
        "from datetime import datetime, timedelta\n",
        "\n",
        "# Get recent data for validation\n",
        "end_date = datetime.now()\n",
        "start_date = end_date - timedelta(days=30)\n",
        "import yfinance as yf\n",
        "recent_data = yf.download('AAPL', start=start_date, end=end_date)\n",
        "\n",
        "# Assume 'best_model' is your trained prediction model\n",
        "best_model = lr_model\n",
        "# Prepare the latest features\n",
        "X_recent = recent_data[['Open', 'High', 'Low', 'Volume']].iloc[-1:]\n",
        "predicted_price = float(best_model.predict(X_recent)[0])\n",
        "\n",
        "print(f\"Predicted next day price: ${predicted_price:.2f}\")\n",
        "\n",
        "# Function to compare prediction with actual\n",
        "def validate_prediction(predicted, actual):\n",
        "    error = abs(predicted - actual)\n",
        "    percent_error = (error / actual) * 100\n",
        "    return f\"Error: ${error:.2f} ({percent_error:.1f}%)\""
      ],
      "metadata": {
        "id": "EdMX7aaGZbA8",
        "outputId": "c2448e11-d18e-44a1-b102-c28cf2d51e7b",
        "colab": {
          "base_uri": "https://localhost:8080/"
        }
      },
      "id": "EdMX7aaGZbA8",
      "execution_count": 4,
      "outputs": [
        {
          "output_type": "stream",
          "name": "stderr",
          "text": [
            "/tmp/ipython-input-401737822.py:8: FutureWarning: YF.download() has changed argument auto_adjust default to True\n",
            "  recent_data = yf.download('AAPL', start=start_date, end=end_date)\n",
            "\r[*********************100%***********************]  1 of 1 completed"
          ]
        },
        {
          "output_type": "stream",
          "name": "stdout",
          "text": [
            "Predicted next day price: $249.70\n"
          ]
        },
        {
          "output_type": "stream",
          "name": "stderr",
          "text": [
            "\n",
            "/tmp/ipython-input-401737822.py:14: DeprecationWarning: Conversion of an array with ndim > 0 to a scalar is deprecated, and will error in future. Ensure you extract a single element from your array before performing this operation. (Deprecated NumPy 1.25.)\n",
            "  predicted_price = float(best_model.predict(X_recent)[0])\n"
          ]
        }
      ]
    },
    {
      "cell_type": "code",
      "source": [
        "# Template with placeholders\n",
        "email_template = \"\"\"\n",
        "Write a {tone} email response for {context}.\n",
        "\n",
        "Examples:\n",
        "- Customer inquiry about pricing -> Helpful, informative\n",
        "- Complaint about service -> Apologetic, solution-focused\n",
        "- Partnership proposal -> Professional, interested\n",
        "\n",
        "Customer message: \"{customer_message}\"\n",
        "Tone: {tone}\n",
        "Context: {context}\n",
        "\n",
        "Response:\"\"\"\n",
        "\n",
        "# Usage\n",
        "prompt = email_template.format(\n",
        "    tone=\"professional and helpful\",\n",
        "    context=\"product inquiry\",\n",
        "    customer_message=\"What are your pricing plans?\"\n",
        ")\n",
        "print(prompt)\n",
        ""
      ],
      "metadata": {
        "id": "lJ5BSNcwn26s",
        "outputId": "bd2f6042-23f9-45bd-eeea-95a41d724716",
        "colab": {
          "base_uri": "https://localhost:8080/"
        }
      },
      "id": "lJ5BSNcwn26s",
      "execution_count": 1,
      "outputs": [
        {
          "output_type": "stream",
          "name": "stdout",
          "text": [
            "\n",
            "Write a professional and helpful email response for product inquiry.\n",
            "\n",
            "Examples:\n",
            "- Customer inquiry about pricing -> Helpful, informative\n",
            "- Complaint about service -> Apologetic, solution-focused  \n",
            "- Partnership proposal -> Professional, interested\n",
            "\n",
            "Customer message: \"What are your pricing plans?\"\n",
            "Tone: professional and helpful\n",
            "Context: product inquiry\n",
            "\n",
            "Response:\n"
          ]
        }
      ]
    },
    {
      "cell_type": "markdown",
      "metadata": {
        "id": "oXudrRTqTZbQ"
      },
      "source": [
        "[🚀 Open in Colab](https://colab.research.google.com/github/Roopesht/codeexamples/blob/main/genai/python_easy/stock_prediction.ipynb)"
      ],
      "id": "oXudrRTqTZbQ"
    },
    {
      "cell_type": "markdown",
      "metadata": {
        "id": "9Mxxrnh7TZbQ"
      },
      "source": [
        "### 📈 Stock Prediction Insights\n",
        ">*\"In stock prediction, the best model today might not be the best tomorrow!\"*\n",
        "\n",
        "**💭 Reality Check:** Why might Random Forest perform better than Linear Regression for stock prices?\n",
        "- Random Forest can capture complex, nonlinear patterns in data,\n",
        "- While Linear Regression assumes a straight-line relationship,\n",
        "- Stock prices often follow complex trends that more flexible models can better fit."
      ],
      "id": "9Mxxrnh7TZbQ"
    }
  ],
  "metadata": {
    "colab": {
      "provenance": []
    },
    "language_info": {
      "name": "python"
    },
    "kernelspec": {
      "name": "python3",
      "display_name": "Python 3"
    }
  },
  "nbformat": 4,
  "nbformat_minor": 5
}